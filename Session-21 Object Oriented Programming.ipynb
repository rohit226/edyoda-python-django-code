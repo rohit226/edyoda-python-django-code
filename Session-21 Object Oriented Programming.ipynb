{
 "cells": [
  {
   "cell_type": "code",
   "execution_count": 1,
   "metadata": {},
   "outputs": [
    {
     "ename": "SyntaxError",
     "evalue": "invalid syntax (<ipython-input-1-6b91ddeccfe8>, line 17)",
     "output_type": "error",
     "traceback": [
      "\u001b[1;36m  File \u001b[1;32m\"<ipython-input-1-6b91ddeccfe8>\"\u001b[1;36m, line \u001b[1;32m17\u001b[0m\n\u001b[1;33m    user1.add_name(\"ABC\"):\u001b[0m\n\u001b[1;37m        ^\u001b[0m\n\u001b[1;31mSyntaxError\u001b[0m\u001b[1;31m:\u001b[0m invalid syntax\n"
     ]
    }
   ],
   "source": [
    "class User:\n",
    "    def __init__(self,username,email,password):\n",
    "        self.user_name = username\n",
    "        self.email = email\n",
    "        self.password = password\n",
    "    def login(self,username,password):\n",
    "        if self.user_name == username and self.password == password:\n",
    "            \n",
    "        \n",
    "            return True\n",
    "        else:\n",
    "            return False\n",
    "user1 = user(\"abc@123\",\"abc@gmail.com\",\"password@123\")\n",
    "user2 = user(\"pqr@123\",\"pqr@gmail.com\",\"password@123\")\n",
    "            \n",
    "print(user2.login(\"pqr@123\",\"pqr@gmail.com\",\"password@123\")\n",
    "user1.add_name(\"ABC\")\n",
    "       print(user1.name)\n",
    "            "
   ]
  },
  {
   "cell_type": "code",
   "execution_count": 1,
   "metadata": {},
   "outputs": [
    {
     "ename": "NameError",
     "evalue": "name 'student' is not defined",
     "output_type": "error",
     "traceback": [
      "\u001b[1;31m---------------------------------------------------------------------------\u001b[0m",
      "\u001b[1;31mNameError\u001b[0m                                 Traceback (most recent call last)",
      "\u001b[1;32m<ipython-input-1-81b26e8ca2c1>\u001b[0m in \u001b[0;36m<module>\u001b[1;34m\u001b[0m\n\u001b[0;32m     11\u001b[0m     \u001b[1;32melse\u001b[0m\u001b[1;33m:\u001b[0m\u001b[1;33m\u001b[0m\u001b[1;33m\u001b[0m\u001b[0m\n\u001b[0;32m     12\u001b[0m         \u001b[1;32mreturn\u001b[0m \u001b[1;32mFalse\u001b[0m\u001b[1;33m\u001b[0m\u001b[1;33m\u001b[0m\u001b[0m\n\u001b[1;32m---> 13\u001b[1;33m \u001b[0mstudent1\u001b[0m \u001b[1;33m=\u001b[0m \u001b[0mstudent\u001b[0m\u001b[1;33m(\u001b[0m\u001b[1;34m\"shubham\"\u001b[0m\u001b[1;33m)\u001b[0m\u001b[1;33m\u001b[0m\u001b[1;33m\u001b[0m\u001b[0m\n\u001b[0m\u001b[0;32m     14\u001b[0m \u001b[0mstudent2\u001b[0m\u001b[1;33m\u001b[0m\u001b[1;33m\u001b[0m\u001b[0m\n\u001b[0;32m     15\u001b[0m \u001b[0mprint\u001b[0m\u001b[1;33m(\u001b[0m\u001b[0mstudent1\u001b[0m\u001b[1;33m)\u001b[0m\u001b[1;33m\u001b[0m\u001b[1;33m\u001b[0m\u001b[0m\n",
      "\u001b[1;31mNameError\u001b[0m: name 'student' is not defined"
     ]
    }
   ],
   "source": [
    "class Student:\n",
    "    def __init__(self,name,rollno,marks,percentage):\n",
    "        self.student_name = name\n",
    "        self.roll_no = rollno\n",
    "        self.marks = marks\n",
    "        self.percentage = percentage\n",
    "    \n",
    "def login(self,name,rollno,marks,percentage):\n",
    "    if self.student_name == name and self.roll_no == rollno and self.marks == marks and self.percentage == percentage:\n",
    "        return True\n",
    "    else:\n",
    "        return False\n",
    "student1 = student(\"shubham\")\n",
    "student2\n",
    "print(student1)"
   ]
  },
  {
   "cell_type": "code",
   "execution_count": null,
   "metadata": {},
   "outputs": [],
   "source": [
    "Instance Variable:- every object will have own copy of that variable"
   ]
  },
  {
   "cell_type": "code",
   "execution_count": 14,
   "metadata": {},
   "outputs": [
    {
     "name": "stdout",
     "output_type": "stream",
     "text": [
      "rohit rohitmvishwakarma@gmail.com password123\n",
      "rahul rahul@123gmail.com password123\n"
     ]
    }
   ],
   "source": [
    "class User:\n",
    "    def __init__(self,username,email,password):\n",
    "        self.user_name = username\n",
    "        self.email = email\n",
    "        self.password = password\n",
    "        \n",
    "        \n",
    "user1 = User(\"rohit\",\"rohitmvishwakarma@gmail.com\",\"password123\")        \n",
    "user2 = User(\"rahul\",\"rahul@123gmail.com\",\"password123\")\n",
    "print(user1.user_name,user1.email,user1.password)\n",
    "print(user2.user_name,user2.email,user2.password)"
   ]
  },
  {
   "cell_type": "code",
   "execution_count": 30,
   "metadata": {},
   "outputs": [
    {
     "name": "stdout",
     "output_type": "stream",
     "text": [
      "rohit rohitmvishwakarma@gmail.com password123\n",
      "rahul rahul@123gmail.com password123\n"
     ]
    }
   ],
   "source": [
    "# signup method using\n",
    "\n",
    "class User:\n",
    "    def signup(self,username,email,password):\n",
    "        self.user_name = username\n",
    "        self.email = email\n",
    "        self.password = password\n",
    "        \n",
    "        \n",
    "user1 = User()\n",
    "user2 = User()\n",
    "user1.signup(\"rohit\",\"rohitmvishwakarma@gmail.com\",\"password123\")        \n",
    "user2.signup(\"rahul\",\"rahul@123gmail.com\",\"password123\")\n",
    "print(user1.user_name,user1.email,user1.password)\n",
    "print(user2.user_name,user2.email,user2.password)"
   ]
  },
  {
   "cell_type": "code",
   "execution_count": 2,
   "metadata": {},
   "outputs": [
    {
     "name": "stdout",
     "output_type": "stream",
     "text": [
      "True\n"
     ]
    }
   ],
   "source": [
    "\n",
    "class User:\n",
    "    def __init__(self,username,email,password):\n",
    "        self.user_name = username\n",
    "        self.email = email\n",
    "        self.password = password\n",
    "        \n",
    "    def login(self,username,password):\n",
    "        if self.user_name == username and self.password == password:\n",
    "            return True\n",
    "        else:\n",
    "            return False\n",
    "        \n",
    "        \n",
    "user1 = User(\"rohit\",\"rohitmvishwakarma@gmail.com\",\"password123\")        \n",
    "user2 = User(\"rahul\",\"rahul@123gmail.com\",\"password123\")\n",
    "print(user1.login(\"rohit\",\"password123\"))\n"
   ]
  },
  {
   "cell_type": "code",
   "execution_count": 3,
   "metadata": {},
   "outputs": [
    {
     "name": "stdout",
     "output_type": "stream",
     "text": [
      "ABC\n"
     ]
    }
   ],
   "source": [
    "class User:\n",
    "        def __init__(self,username,email,password):\n",
    "            self.user_name = username\n",
    "            self.email = email\n",
    "            self.password = password\n",
    "        \n",
    "        def login(self,username,password):\n",
    "            if self.user_name == username and self.password == password:\n",
    "                return True\n",
    "            else:\n",
    "                return False\n",
    "       \n",
    "        def add_name(self,name):\n",
    "            self.name = name\n",
    "        \n",
    "user1 = User(\"rohit\",\"rohitmvishwakarma@gmail.com\",\"password123\")        \n",
    "user2 = User(\"rahul\",\"rahul@123gmail.com\",\"password123\")\n",
    "# print(user1.login(\"rohit\",\"password123\"))\n",
    "user1.add_name(\"ABC\")\n",
    "print(user1.name)"
   ]
  },
  {
   "cell_type": "code",
   "execution_count": 71,
   "metadata": {},
   "outputs": [
    {
     "name": "stdout",
     "output_type": "stream",
     "text": [
      "{'user_name': 'rohit', 'email': 'rohitmvishwakarma@gmail.com', 'password': 'password123'}\n",
      "{'user_name': 'rahul', 'email': 'rahul@123gmail.com', 'password': 'password123'}\n"
     ]
    }
   ],
   "source": [
    "print(user1.__dict__)\n",
    "print(user2.__dict__)"
   ]
  },
  {
   "cell_type": "code",
   "execution_count": 8,
   "metadata": {},
   "outputs": [
    {
     "name": "stdout",
     "output_type": "stream",
     "text": [
      "True\n",
      "ABC\n",
      "MLA\n",
      "password123\n",
      "abc@321\n",
      "{'user_name': 'rohit', 'email': 'rohitmvishwakarma@gmail.com', 'password': 'abc@321', 'name': 'ABC'}\n",
      "{'user_name': 'rahul', 'email': 'rahul@123gmail.com', 'password': 'password123', 'name': 'MLA'}\n"
     ]
    }
   ],
   "source": [
    "class User:\n",
    "        def __init__(self,username,email,password):\n",
    "            self.user_name = username\n",
    "            self.email = email\n",
    "            self.password = password\n",
    "        \n",
    "        def login(self,username,password):\n",
    "            if self.user_name == username and self.password == password:\n",
    "                return True\n",
    "            else:\n",
    "                return False\n",
    "       \n",
    "        def add_name(self,name):\n",
    "            self.name = name\n",
    "            \n",
    "        def change_password(self,new_password):\n",
    "            self.password = new_password\n",
    "        \n",
    "user1 = User(\"rohit\",\"rohitmvishwakarma@gmail.com\",\"password123\")        \n",
    "user2 = User(\"rahul\",\"rahul@123gmail.com\",\"password123\")\n",
    "print(user1.login(\"rohit\",\"password123\"))\n",
    "user1.add_name(\"ABC\")\n",
    "user2.add_name(\"MLA\")\n",
    "print(user1.name)\n",
    "print(user2.name)\n",
    "print(user1.password)\n",
    "user1.change_password(\"abc@321\")\n",
    "print(user1.password)\n",
    "\n",
    "print(user1.__dict__)\n",
    "print(user2.__dict__)"
   ]
  },
  {
   "cell_type": "code",
   "execution_count": 12,
   "metadata": {},
   "outputs": [
    {
     "name": "stdout",
     "output_type": "stream",
     "text": [
      "rohit rohitmvishwakarma@gmail.com ABC\n",
      "rahul rahul@123gmail.com DAB\n",
      "shyam shyam@123gmail.com PQR\n",
      "ak ak@123gmail.com MAR\n"
     ]
    }
   ],
   "source": [
    "class User:\n",
    "        def __init__(self,username,email,password):\n",
    "            self.user_name = username\n",
    "            self.email = email\n",
    "            self.password = password\n",
    "        \n",
    "        def login(self,username,password):\n",
    "            if self.user_name == username and self.password == password:\n",
    "                return True\n",
    "            else:\n",
    "                return False\n",
    "       \n",
    "        def add_name(self,name):\n",
    "            self.name = name\n",
    "            \n",
    "        def change_password(self,new_password):\n",
    "            self.password = new_password\n",
    "            \n",
    "        def __str__ (self):\n",
    "            return \"{} {}\".format(self.user_name,self.email)\n",
    "        \n",
    "        def get_details(self):\n",
    "            return \"{} {} {}\".format(self.user_name,self.email,self.name)\n",
    "        \n",
    "user1 = User(\"rohit\",\"rohitmvishwakarma@gmail.com\",\"password123\")        \n",
    "user2 = User(\"rahul\",\"rahul@123gmail.com\",\"password123\")\n",
    "user3 = User(\"shyam\",\"shyam@123gmail.com\",\"as12\")\n",
    "user4 = User(\"ak\",\"ak@123gmail.com\",\"adf45\")\n",
    "\n",
    "user1.add_name(\"ABC\")\n",
    "user2.add_name(\"DAB\")\n",
    "user3.add_name(\"PQR\")\n",
    "user4.add_name(\"MAR\")\n",
    "\n",
    "users = [user1,user2,user3,user4]\n",
    "for user in users:\n",
    "    print(user.get_details())\n",
    "# print(user1)"
   ]
  },
  {
   "cell_type": "code",
   "execution_count": 28,
   "metadata": {},
   "outputs": [
    {
     "name": "stdout",
     "output_type": "stream",
     "text": [
      "3 ram 36.2 Fail\n",
      "5 rakesh 35.8 Fail\n"
     ]
    }
   ],
   "source": [
    "class Student:\n",
    "    def __init__(self,name,rollno):\n",
    "        self.name = name\n",
    "        self.roll_no = rollno\n",
    "        \n",
    "        \n",
    "    def add_marks(self,marks):\n",
    "        self.marks = marks\n",
    "        \n",
    "        \n",
    "    def cal_result(self):\n",
    "        self.per = sum(self.marks.values()) / 500 * 100\n",
    "        if self.per >= 40:\n",
    "            self.result = \"Pass\"\n",
    "        else:\n",
    "            self.result = \"Fail\"\n",
    "            \n",
    "    def get_details(self):\n",
    "         return \"{} {} {} {}\".format(str(self.roll_no),self.name,round(self.per,2),self.result)\n",
    "        \n",
    "        \n",
    "stud1 = Student(\"rohit\",1)\n",
    "stud2 = Student(\"rahul\",2)\n",
    "stud3 = Student(\"ram\",3)\n",
    "stud4 = Student(\"rajat\",4)\n",
    "stud5 = Student(\"rakesh\",5)\n",
    "stud6 = Student(\"akash\",6)\n",
    "\n",
    "\n",
    "stud1.add_marks({\"eng\":79,\"math\":82,\"sci\":92,\"his\":88,\"geo\":76})\n",
    "stud2.add_marks({\"eng\":53,\"math\":81,\"sci\":88,\"his\":71,\"geo\":64})\n",
    "stud3.add_marks({\"eng\":39,\"math\":25,\"sci\":30,\"his\":47,\"geo\":40})\n",
    "stud4.add_marks({\"eng\":53,\"math\":81,\"sci\":88,\"his\":71,\"geo\":65})\n",
    "stud5.add_marks({\"eng\":30,\"math\":41,\"sci\":33,\"his\":40,\"geo\":35})\n",
    "stud6.add_marks({\"eng\":68,\"math\":45,\"sci\":70,\"his\":52,\"geo\":33})\n",
    "\n",
    "students = [stud1,stud2,stud3,stud4,stud5,stud6]\n",
    "for student in students:\n",
    "    student.cal_result()\n",
    "    \n",
    "# failed student\n",
    "for student in students:\n",
    "     if student.result == \"Fail\":\n",
    "         print(student.get_details())\n",
    "\n",
    "\n",
    "# print(stud2.per,stud2.marks,stud2.result)\n",
    "# print(stud5.per,stud5.marks,stud5.result)\n",
    "\n",
    "\n",
    "\n",
    "        "
   ]
  },
  {
   "cell_type": "code",
   "execution_count": null,
   "metadata": {},
   "outputs": [],
   "source": []
  }
 ],
 "metadata": {
  "kernelspec": {
   "display_name": "Python 3",
   "language": "python",
   "name": "python3"
  },
  "language_info": {
   "codemirror_mode": {
    "name": "ipython",
    "version": 3
   },
   "file_extension": ".py",
   "mimetype": "text/x-python",
   "name": "python",
   "nbconvert_exporter": "python",
   "pygments_lexer": "ipython3",
   "version": "3.7.5"
  }
 },
 "nbformat": 4,
 "nbformat_minor": 2
}
