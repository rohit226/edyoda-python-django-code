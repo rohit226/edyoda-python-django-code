{
 "cells": [
  {
   "cell_type": "code",
   "execution_count": null,
   "metadata": {},
   "outputs": [],
   "source": [
    "l = []\n"
   ]
  },
  {
   "cell_type": "code",
   "execution_count": 1,
   "metadata": {},
   "outputs": [
    {
     "name": "stdout",
     "output_type": "stream",
     "text": [
      "Chennai Banglore\n",
      "Bombay Delhi\n",
      "Goa Chennai\n",
      "Delhi Goa\n"
     ]
    }
   ],
   "source": [
    "travel_sequence = {\"Chennai\":\"Banglore\",\"Bombay\":\"Delhi\",\"Goa\":\"Chennai\",\"Delhi\":\"Goa\"}\n",
    "# print(travel_sequence)\n",
    "# print(len(travel_sequence))\n",
    "# print(travel_sequence.items())\n",
    "for key,values in travel_sequence.items():\n",
    "    print(key,values)"
   ]
  },
  {
   "cell_type": "code",
   "execution_count": 74,
   "metadata": {},
   "outputs": [
    {
     "name": "stdout",
     "output_type": "stream",
     "text": [
      "[1, 3, 5]\n",
      "1\n",
      "3\n",
      "5\n",
      "(1, 3, 5, 4, 2)\n"
     ]
    }
   ],
   "source": [
    "# .Given a list of N integers. The task is to eliminate the minimum number of elements such that in the resulting list the sum of any two adjacent values is even.\n",
    "\n",
    "# Numbers = [1, 3, 5, 4, 2] Output = [1, 3, 5] Total elements removed 2 Elements to be removed [4,2]\n",
    "\n",
    "# Function Name : adj_sum_even() Input : list Output : tuple(int,list)\n",
    "\n",
    "\n",
    "number = [1, 3, 5, 4, 2]\n",
    "print(number[0:3])\n",
    "\n",
    "for value in number:\n",
    "    if value % 2 !=0:\n",
    "        print(value)\n",
    "tup = tuple(number)\n",
    "print(tup)"
   ]
  }
 ],
 "metadata": {
  "kernelspec": {
   "display_name": "Python 3",
   "language": "python",
   "name": "python3"
  },
  "language_info": {
   "codemirror_mode": {
    "name": "ipython",
    "version": 3
   },
   "file_extension": ".py",
   "mimetype": "text/x-python",
   "name": "python",
   "nbconvert_exporter": "python",
   "pygments_lexer": "ipython3",
   "version": "3.7.5"
  }
 },
 "nbformat": 4,
 "nbformat_minor": 2
}
