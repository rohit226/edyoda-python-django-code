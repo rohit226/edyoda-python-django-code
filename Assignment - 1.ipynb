{
 "cells": [
  {
   "cell_type": "code",
   "execution_count": null,
   "metadata": {},
   "outputs": [],
   "source": [
    "Que1:- In the pre-smartphone era,each number key is assigned a subset of the alphabet {a,b,…,z}.\n",
    "- 2 is assigned {a,b,c}, \n",
    "- 3 is assigned {d,e,f} \n",
    "- 4 is assigned {g,h,i} \n",
    "- 5 is assigned {j,k,l}\n",
    "- 6 is assigned {m,n,o} \n",
    "- 7 is assigned {p,q,r,s}\n",
    "- 8 is assigned {t,u,v} \n",
    "- 9 is assigned {w,x,y,z}\n",
    "\n",
    "Write a function numbers_to_chars() to find the characters generated using key 9999335533. Output should be \"zeke\"\n",
    "Function Name : numbers_to_chars() Input : Integer number sequence Output : Str"
   ]
  },
  {
   "cell_type": "code",
   "execution_count": 34,
   "metadata": {},
   "outputs": [
    {
     "data": {
      "text/plain": [
       "'zeke'"
      ]
     },
     "execution_count": 34,
     "metadata": {},
     "output_type": "execute_result"
    }
   ],
   "source": [
    "\n",
    "def numbers_to_chars(numbers):\n",
    "    d = {\"2\":{'a','b','c'},\"3\":{'d','e','f'},\"4\":{'g','h','i'},\"5\":{'j','k','l'},\"6\":{'m','n','o'},\"7\":{'p','q','r','s'},\"8\":{'t','u','v'},\"9\":{'w','x','y','z'}}\n",
    "    d2 = {}\n",
    "    l = []\n",
    "    current = numbers[0]\n",
    "    count = 0\n",
    "    output = \"\"\n",
    "    \n",
    "    for value in d:\n",
    "        d2[value] = list(sorted(d[value]))\n",
    "\n",
    "    for num in numbers:\n",
    "        if num == current:\n",
    "            count += 1\n",
    "        else:\n",
    "            l.append((current, count))\n",
    "            current = num\n",
    "            count = 1\n",
    "    l.append((current, count))\n",
    "\n",
    "    for t in l:\n",
    "        key = d2[t[0]]\n",
    "        res = key[int(t[1]-1)]\n",
    "        output += res\n",
    "        \n",
    "    return output\n",
    "\n",
    "\n",
    "numbers_to_chars(\"9999335533\")\n"
   ]
  },
  {
   "cell_type": "code",
   "execution_count": 16,
   "metadata": {},
   "outputs": [],
   "source": [
    "Que2:- Given a dict of tickets(\"to\":\"from\")\n",
    "{\"Chennai\":\"Banglore\",\"Bombay\":\"Delhi\",\"Goa\":\"Chennai\",\"Delhi\":\"Goa\"} find out the sequence of travel.\n",
    "Expected Output : Bombay->Delhi, Delhi->Goa, Goa->Chennai, Chennai->Banglore\n",
    "Function Name : travel_sequence Input : dict Output : dict"
   ]
  },
  {
   "cell_type": "code",
   "execution_count": 18,
   "metadata": {},
   "outputs": [
    {
     "name": "stdout",
     "output_type": "stream",
     "text": [
      "{'Bombay': 'Delhi', 'Delhi': 'Goa', 'Goa': 'Chennai', 'Chennai': 'Banglore'}\n"
     ]
    }
   ],
   "source": [
    "def travel_sequence(input_dict):\n",
    "    sequence = {\"Chennai\":\"Banglore\",\"Bombay\":\"Delhi\",\"Goa\":\"Chennai\",\"Delhi\":\"Goa\"}        \n",
    "    output_sequence = {}\n",
    "   \n",
    "    for key,value in input_dict.items():\n",
    "        destination = key\n",
    "        origin = value\n",
    "    \n",
    "    for length in range(len(sequence)):\n",
    "        for keys,values in sequence.items():\n",
    "            if destination == keys:\n",
    "                output_sequence.setdefault(keys,values)\n",
    "                destination = values            \n",
    "    \n",
    "    return output_sequence      \n",
    "            \n",
    "\n",
    "input_dict = {'Bombay':'Banglore'}\n",
    "print(travel_sequence(input_dict))"
   ]
  },
  {
   "cell_type": "code",
   "execution_count": null,
   "metadata": {},
   "outputs": [],
   "source": [
    "que10:- Given a list of N integers. The task is to eliminate the minimum number of elements such that in the resulting list the sum of any two adjacent values is even.\n",
    "Numbers = [1, 3, 5, 4, 2] Output = [1, 3, 5] Total elements removed 2 Elements to be removed [4,2]\n",
    "Function Name : adj_sum_even() Input : list Output : tuple(int,list)"
   ]
  },
  {
   "cell_type": "code",
   "execution_count": 19,
   "metadata": {},
   "outputs": [
    {
     "name": "stdout",
     "output_type": "stream",
     "text": [
      "(2, [1, 3])\n"
     ]
    }
   ],
   "source": [
    "def adj_sum_even(numbers):\n",
    "    even_list = []\n",
    "    odd_list = []\n",
    "    for i in range(len(numbers)):\n",
    "        if(numbers[i]%2 ==0):\n",
    "            even_list.append(numbers[i])\n",
    "        else:\n",
    "            odd_list.append(numbers[i])\n",
    "            \n",
    "    if(len(even_list) < len(odd_list)):\n",
    "        return (len(even_list),even_list)\n",
    "    else:\n",
    "        return (len(odd_list),odd_list)\n",
    "\n",
    "    \n",
    "print(adj_sum_even([1,3,8,4,2]))"
   ]
  },
  {
   "cell_type": "code",
   "execution_count": null,
   "metadata": {},
   "outputs": [],
   "source": [
    "que9 :- Given an array arr[] of integers and an integer K, the task is to find the greatest contiguous sub-array of size K.\n",
    "Sub-array X is said to be greater than sub-array Y if the first non-matching element in both the sub-arrays has a greater value in X than in Y.\n",
    "For example : Input: arr[] = {1, 4, 3, 2, 5}, K = 4 Output: 4 3 2 5 Two subarrays are {1, 4, 3, 2} and {4, 3, 2, 5}. First non-matching element from array1 and array 2 : 1 and 4 as 4 is greater Hence, the greater one is {4, 3, 2, 5}\n",
    "Function Name : greatest_sub_array() Input : list Output : list"
   ]
  },
  {
   "cell_type": "code",
   "execution_count": 22,
   "metadata": {},
   "outputs": [
    {
     "name": "stdout",
     "output_type": "stream",
     "text": [
      "[4, 3, 2, 5]\n"
     ]
    }
   ],
   "source": [
    "def greatest_sub_array(a, k): \n",
    "    sub_arrays=[]\n",
    "    n = len(a)\n",
    "    for i in range(n-k+1): \n",
    "        temp=[] \n",
    "        for j in range(i,i+k): \n",
    "            temp.append(a[j])\n",
    "        #print(temp)\n",
    "        sub_arrays.append(temp)  \n",
    "    #length = len(sub_arrays)\n",
    "    #print(max(sub_arrays))    \n",
    "    #sub_arrays = sorted(sub_arrays,reverse = True) \n",
    "    return max(sub_arrays) \n",
    "\n",
    "a =[ 1, 4, 3, 2, 5 ] \n",
    "k = 4 \n",
    " \n",
    "result = greatest_sub_array(a, k) \n",
    "print(result)"
   ]
  },
  {
   "cell_type": "code",
   "execution_count": null,
   "metadata": {},
   "outputs": [],
   "source": [
    "Que5 :-Write a program to convert Integer to Roman String. For example, if a given integer is 5 then your program should print \"V\".\n",
    "Function Name : int_roman Input : int Output : str"
   ]
  },
  {
   "cell_type": "code",
   "execution_count": 36,
   "metadata": {},
   "outputs": [
    {
     "name": "stdout",
     "output_type": "stream",
     "text": [
      "Enter the number: 5\n",
      "5 V\n"
     ]
    },
    {
     "data": {
      "text/plain": [
       "'V'"
      ]
     },
     "execution_count": 36,
     "metadata": {},
     "output_type": "execute_result"
    }
   ],
   "source": [
    "num_map = [(1000, 'M'), (900, 'CM'), (500, 'D'), (400, 'CD'), (100, 'C'), (90, 'XC'),\n",
    "           (50, 'L'), (40, 'XL'), (10, 'X'), (9, 'IX'), (5, 'V'), (4, 'IV'), (1, 'I')]\n",
    "\n",
    "\n",
    "def int_roman(num):\n",
    "\n",
    "    roman = ''\n",
    "\n",
    "    while num > 0:\n",
    "        for i, r in num_map:\n",
    "           \n",
    "            while num >= i:\n",
    "                roman += r\n",
    "                print(i,r)\n",
    "                num -= i\n",
    "\n",
    "    return roman\n",
    "\n",
    "num = int(input(\"Enter the number: \"))\n",
    "int_roman(num)"
   ]
  },
  {
   "cell_type": "code",
   "execution_count": null,
   "metadata": {},
   "outputs": [],
   "source": [
    "Que3 :- .Given a dictionary that associates the names of states with a list of the names of cities that appear in it,write a program that creates a new dictionary that associates the name of a city with the list of states that it appears in.\n",
    "As an example, if the first dictionary is\n",
    "Input : states = {'New Hampshire': ['Concord', 'Hanover'],\n",
    "'Massachusetts': ['Boston', 'Concord', 'Springfield'],\n",
    "'Illinois': ['Chicago', 'Springfield', 'Peoria'] }\n",
    "Output:\n",
    "cities = {'Hanover': ['New Hampshire'],\n",
    "'Chicago': ['Illinois'],'Boston': ['Massachusetts'],\n",
    "'Peoria': ['Illinois'],'Concord': ['New Hampshire','Massachusetts'],\n",
    "'Springfield': ['Massachusetts', 'Illinois'] }\n",
    "Function Name : city_with_states Input : dict Output : dict"
   ]
  },
  {
   "cell_type": "code",
   "execution_count": 35,
   "metadata": {},
   "outputs": [
    {
     "data": {
      "text/plain": [
       "{'Concord': ['New Hampshire', 'Massachusetts'],\n",
       " 'Hanover': ['New Hampshire'],\n",
       " 'Boston': ['Massachusetts'],\n",
       " 'Springfield': ['Massachusetts', 'Illinois'],\n",
       " 'Chicago': ['Illinois'],\n",
       " 'Peoria': ['Illinois']}"
      ]
     },
     "execution_count": 35,
     "metadata": {},
     "output_type": "execute_result"
    }
   ],
   "source": [
    "def city_with_states(states):\n",
    "\n",
    "    l = []\n",
    "    l2 = []\n",
    "    cities = {}\n",
    "\n",
    "    for value in states:\n",
    "        for value2 in states[value]:\n",
    "            if value2 not in l:\n",
    "                l.append(value2)\n",
    "\n",
    "    for city in l:\n",
    "        temp = []\n",
    "        for state in states:\n",
    "            if city in states[state]:\n",
    "                temp.append(state)\n",
    "        l2.append(temp)\n",
    "\n",
    "    for pair in zip(l,l2):\n",
    "        cities[pair[0]] = pair[1]\n",
    "\n",
    "    return cities\n",
    "\n",
    "\n",
    "city_with_states({'New Hampshire': ['Concord', 'Hanover'],'Massachusetts': ['Boston', 'Concord', 'Springfield'],\n",
    "          'Illinois': ['Chicago', 'Springfield', 'Peoria'] })"
   ]
  },
  {
   "cell_type": "code",
   "execution_count": null,
   "metadata": {},
   "outputs": [],
   "source": []
  },
  {
   "cell_type": "code",
   "execution_count": null,
   "metadata": {},
   "outputs": [],
   "source": [
    "Que4 :- How do you check if a given String contains valid parentheses? Given a string containing just the characters '(', ')', '{', '}', '[' and ']', write a program in python to check if the input string is valid. The brackets must close in the correct order, \"()\" and \"()[]{}\" are all valid but \"(]\" and \"([)]\" are not.\n",
    "Function Name : check_parentheses Input : str Output : True/False"
   ]
  },
  {
   "cell_type": "code",
   "execution_count": null,
   "metadata": {},
   "outputs": [],
   "source": [
    "open_list = [\"[\",\"{\",\"(\"]\n",
    "close_list = [\"]\",\"}\",\")\"]\n",
    "\n",
    "stack=[]\n",
    "def check_parentheses(input_str):\n",
    "    for i in input_str:\n",
    "        if i in open_list:\n",
    "            stack.append(i)\n",
    "        elif i in close_list:\n",
    "            pos = close_list.index(i)\n",
    "            if ((len(stack) > 0) and\n",
    "                (open_list[pos] == stack[len(stack)-1])):\n",
    "                stack.pop()\n",
    "            else:\n",
    "                return False\n",
    "    if len(stack) == 0:\n",
    "        return True\n",
    "    else:\n",
    "        return False\n",
    "   \n",
    "input_str = input(\"Enter the Paranthesis\")\n",
    "check_parentheses(input_str)"
   ]
  },
  {
   "cell_type": "code",
   "execution_count": null,
   "metadata": {},
   "outputs": [],
   "source": [
    "Que6 :- Write a program utility that counts the number of lines of actual python code in a. For the purpose of this exercise, a line is counted if it contains something other than whitespace or text in a comment.\n",
    "remember that comment start sequences that appear inside python strings should be ignored.\n",
    "Function Name : count_code_lines Input : str Output : int"
   ]
  },
  {
   "cell_type": "code",
   "execution_count": 2,
   "metadata": {},
   "outputs": [
    {
     "name": "stdout",
     "output_type": "stream",
     "text": [
      "12\n"
     ]
    }
   ],
   "source": [
    "input_code = \"\"\"\n",
    "#Linear search implementation\n",
    "#Takes list and a key as input and returns True or False as answer\n",
    "def linear_saerch(l,key):\n",
    "    for value in l:\n",
    "        if key == value:\n",
    "            return True #Return True is key exist\n",
    "    else:\n",
    "        return False #Return False if key does not exist\n",
    "\n",
    "l = [100,200,300,400,500,600]\n",
    "key = 500\n",
    "result = linear_search(l,key)\n",
    "print(result)\n",
    "\"\"\"\n",
    "\n",
    "def count_code_lines(input_code):\n",
    "    total_line_count = 0\n",
    "    comment_count = 0\n",
    "    for value in input_code:\n",
    "        if value=='\\n':\n",
    "            total_line_count += 1\n",
    "    input_code = input_code.replace(' ','')  #romving spaces to get character at 0th index\n",
    "    lines = input_code.split('\\n')\n",
    "    for line in lines:\n",
    "        if line != '':\n",
    "            if line[0] == '#':\n",
    "                comment_count+=1\n",
    "\n",
    "    total_lines = total_line_count - comment_count\n",
    "    return total_lines\n",
    "\n",
    "print(count_code_lines(input_code))"
   ]
  }
 ],
 "metadata": {
  "kernelspec": {
   "display_name": "Python 3",
   "language": "python",
   "name": "python3"
  },
  "language_info": {
   "codemirror_mode": {
    "name": "ipython",
    "version": 3
   },
   "file_extension": ".py",
   "mimetype": "text/x-python",
   "name": "python",
   "nbconvert_exporter": "python",
   "pygments_lexer": "ipython3",
   "version": "3.7.5"
  }
 },
 "nbformat": 4,
 "nbformat_minor": 2
}
