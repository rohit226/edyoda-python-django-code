{
 "cells": [
  {
   "cell_type": "code",
   "execution_count": 13,
   "metadata": {},
   "outputs": [
    {
     "name": "stdout",
     "output_type": "stream",
     "text": [
      "num2 is greater here\n"
     ]
    }
   ],
   "source": [
    "# greatest number\n",
    "num1 = 100\n",
    "num2 = 200\n",
    "if num1 > num2:\n",
    "    print(\"num1 is greater here\")\n",
    "elif num2 > num1:\n",
    "    print(\"num2 is greater here\")\n",
    "else:\n",
    "     print(\"both are equal\")"
   ]
  },
  {
   "cell_type": "code",
   "execution_count": 16,
   "metadata": {},
   "outputs": [
    {
     "name": "stdout",
     "output_type": "stream",
     "text": [
      "both are equal\n"
     ]
    }
   ],
   "source": [
    "num1 = 500\n",
    "num2 = 500\n",
    "if num1>num2:\n",
    "    print(\"num1 is grater here\")\n",
    "elif num2>num1:\n",
    "    print(\"num2 is greater here\")\n",
    "else:\n",
    "     print(\"both are equal\")"
   ]
  },
  {
   "cell_type": "code",
   "execution_count": 19,
   "metadata": {},
   "outputs": [
    {
     "name": "stdout",
     "output_type": "stream",
     "text": [
      "num1 is greater here\n"
     ]
    }
   ],
   "source": [
    "num1 = 200\n",
    "num2 = 100\n",
    "if num1 > num2:\n",
    "    print(\"num1 is greater here\")\n",
    "elif num2 > num1:\n",
    "    print(\"num2 is greater here\")\n",
    "else:\n",
    "    print(\"both are equal\")"
   ]
  },
  {
   "cell_type": "code",
   "execution_count": 105,
   "metadata": {},
   "outputs": [
    {
     "name": "stdout",
     "output_type": "stream",
     "text": [
      "vowel\n"
     ]
    }
   ],
   "source": [
    "# given a char check it is vowel or consonent\n",
    "char = 'a'\n",
    "if char in'a,e,i,o,u':\n",
    "    print(\"vowel\")\n",
    "else:\n",
    "    print(\"consonent\")\n"
   ]
  },
  {
   "cell_type": "code",
   "execution_count": 51,
   "metadata": {},
   "outputs": [
    {
     "name": "stdout",
     "output_type": "stream",
     "text": [
      "vowel\n"
     ]
    }
   ],
   "source": [
    "char = 'a'\n",
    "if char in 'aeiou':\n",
    "    print(\"vowel\")\n",
    "else:\n",
    "    print(\"consonent\")\n"
   ]
  },
  {
   "cell_type": "code",
   "execution_count": 52,
   "metadata": {},
   "outputs": [
    {
     "name": "stdout",
     "output_type": "stream",
     "text": [
      "no\n"
     ]
    }
   ],
   "source": [
    "a = 30\n",
    "b = 10\n",
    "if a==b:\n",
    "    print(\"yes\")\n",
    "else:\n",
    "    print(\"no\")"
   ]
  },
  {
   "cell_type": "code",
   "execution_count": 55,
   "metadata": {},
   "outputs": [
    {
     "name": "stdout",
     "output_type": "stream",
     "text": [
      "python\n"
     ]
    }
   ],
   "source": [
    "if 0:\n",
    "    print(\"hi\")\n",
    "else:\n",
    "    print(\"python\")\n",
    "# any 0 value in python condition is false () {} [] \"\"  none its called zero value"
   ]
  },
  {
   "cell_type": "code",
   "execution_count": 57,
   "metadata": {},
   "outputs": [
    {
     "name": "stdout",
     "output_type": "stream",
     "text": [
      "hello\n"
     ]
    }
   ],
   "source": [
    "if 100:\n",
    "    print(\"hello\")\n",
    "else:\n",
    "    print(\"world\")\n",
    "# any non zero value in python condition is true"
   ]
  },
  {
   "cell_type": "code",
   "execution_count": 59,
   "metadata": {},
   "outputs": [
    {
     "name": "stdout",
     "output_type": "stream",
     "text": [
      "list is empty\n"
     ]
    }
   ],
   "source": [
    "l = []\n",
    "if l:\n",
    "    print(\"list is not empty\")\n",
    "else:\n",
    "    print(\"list is empty\")"
   ]
  },
  {
   "cell_type": "code",
   "execution_count": 61,
   "metadata": {},
   "outputs": [
    {
     "name": "stdout",
     "output_type": "stream",
     "text": [
      "list is not empty\n"
     ]
    }
   ],
   "source": [
    "l = [12]\n",
    "if l:\n",
    "    print(\"list is not empty\")\n",
    "else:\n",
    "    print(\"list is empty\")"
   ]
  },
  {
   "cell_type": "code",
   "execution_count": 64,
   "metadata": {},
   "outputs": [
    {
     "name": "stdout",
     "output_type": "stream",
     "text": [
      "a is present\n"
     ]
    }
   ],
   "source": [
    "s = \"rohit is a king\"\n",
    "if 'a' in s:\n",
    "    print(\"a is present\")\n",
    "else:\n",
    "     print(\"a is not present\")"
   ]
  },
  {
   "cell_type": "code",
   "execution_count": 67,
   "metadata": {},
   "outputs": [
    {
     "name": "stdout",
     "output_type": "stream",
     "text": [
      "v is present\n"
     ]
    }
   ],
   "source": [
    "s = \"become a good developer\"\n",
    "if 'v' in s:\n",
    "    print(\"v is present\")\n",
    "else:\n",
    "    print(\"v is not present\")"
   ]
  },
  {
   "cell_type": "code",
   "execution_count": 83,
   "metadata": {},
   "outputs": [
    {
     "name": "stdout",
     "output_type": "stream",
     "text": [
      "pass\n"
     ]
    }
   ],
   "source": [
    "marks_obtained = 350\n",
    "total_marks = 500\n",
    "percentage = (marks_obtained / total_marks)*100\n",
    "percentage_per = 40\n",
    "if percentage > percentage_per:\n",
    "    print(\"pass\")\n",
    "else:\n",
    "    print(\"fail\")"
   ]
  },
  {
   "cell_type": "code",
   "execution_count": 93,
   "metadata": {},
   "outputs": [
    {
     "name": "stdout",
     "output_type": "stream",
     "text": [
      "odd\n"
     ]
    }
   ],
   "source": [
    "num1 = 45\n",
    "if num1 % 2 ==0:\n",
    "    print(\"even\")\n",
    "else:\n",
    "    print(\"odd\")"
   ]
  },
  {
   "cell_type": "code",
   "execution_count": 102,
   "metadata": {},
   "outputs": [
    {
     "name": "stdout",
     "output_type": "stream",
     "text": [
      "even\n"
     ]
    }
   ],
   "source": [
    "num1 = 20\n",
    "if num1 % 2 ==0:\n",
    "    print(\"even\")\n",
    "else:\n",
    "    print(\"odd\")"
   ]
  },
  {
   "cell_type": "code",
   "execution_count": 17,
   "metadata": {},
   "outputs": [
    {
     "name": "stdout",
     "output_type": "stream",
     "text": [
      "notes of 2000 are 2\n",
      "notes of 500 are 3\n",
      "can not issue notes of 100\n",
      "notes of 50 are 1\n",
      "notes of 10 are 1\n"
     ]
    }
   ],
   "source": [
    "curencies = 2000, 500, 100, 50, 10\n",
    "amount = 5560\n",
    "note_count = 0\n",
    "if amount >= 2000:\n",
    "    print(\"notes of 2000 are\",amount//2000)\n",
    "    note_count += amount//2000\n",
    "    amount = amount % 2000\n",
    "else:\n",
    "    print(\"can not issue notes of 2000\")\n",
    "    \n",
    "    \n",
    "if amount >= 500:\n",
    "    print(\"notes of 500 are\",amount//500)\n",
    "    note_count += amount//500\n",
    "    amount = amount % 500\n",
    "else:\n",
    "    print(\"can not issue notes of 500\")\n",
    "    \n",
    "if amount >= 100:\n",
    "    print(\"notes of 100 are\",amount//100)\n",
    "    note_count += amount//100\n",
    "    amount = amount % 100\n",
    "else:\n",
    "    print(\"can not issue notes of 100\")\n",
    "    \n",
    "if amount >= 50:\n",
    "    print(\"notes of 50 are\",amount//50)\n",
    "    note_count += amount//50\n",
    "    amount = amount % 50\n",
    "else:\n",
    "    print(\"can not issue notes of 50\")\n",
    "    \n",
    "if amount >= 10:\n",
    "    print(\"notes of 10 are\",amount//10)\n",
    "    note_count += amount//10\n",
    "    amount = amount % 10\n",
    "else:\n",
    "    print(\"can not issue notes of 10\")\n",
    "    print(\"total no of notes are\",notes_count)\n",
    "    "
   ]
  },
  {
   "cell_type": "code",
   "execution_count": 6,
   "metadata": {},
   "outputs": [
    {
     "name": "stdout",
     "output_type": "stream",
     "text": [
      "1560\n"
     ]
    }
   ],
   "source": [
    "print(amount%2000)"
   ]
  },
  {
   "cell_type": "code",
   "execution_count": 109,
   "metadata": {},
   "outputs": [
    {
     "name": "stdout",
     "output_type": "stream",
     "text": [
      "yes\n"
     ]
    }
   ],
   "source": [
    "a = 10\n",
    "b = 20 \n",
    "c = 10\n",
    "if 'a+b+c and a==c %2 (a+b+c)/4':\n",
    "    print(\"yes\")\n",
    "else:\n",
    "    print(\"no\")"
   ]
  },
  {
   "cell_type": "code",
   "execution_count": 3,
   "metadata": {},
   "outputs": [
    {
     "name": "stdout",
     "output_type": "stream",
     "text": [
      "tip amount\n"
     ]
    }
   ],
   "source": [
    "rating = (1-5)\n",
    "# tip% of total bill\n",
    "# 1 10\n",
    "# 2 20\n",
    "# 3 30\n",
    "# 4 40\n",
    "# 5 50\n",
    "if '1000%20':\n",
    "    print(\"tip amount\") "
   ]
  },
  {
   "cell_type": "code",
   "execution_count": 13,
   "metadata": {},
   "outputs": [
    {
     "name": "stdout",
     "output_type": "stream",
     "text": [
      "1440.0\n"
     ]
    }
   ],
   "source": [
    "rating =2\n",
    "bill_amount = 1200\n",
    "tip = bill_amount * (rating * 10)/100\n",
    "final_amount = bill_amount + tip\n",
    "print (final_amount)"
   ]
  },
  {
   "cell_type": "code",
   "execution_count": 29,
   "metadata": {},
   "outputs": [
    {
     "name": "stdout",
     "output_type": "stream",
     "text": [
      "odd\n"
     ]
    }
   ],
   "source": [
    "# 1 even and odd no\n",
    "num = 33\n",
    "if num % 2 == 0:\n",
    "    print(\"even\")\n",
    "else:\n",
    "    print(\"odd\")"
   ]
  },
  {
   "cell_type": "code",
   "execution_count": 37,
   "metadata": {},
   "outputs": [
    {
     "name": "stdout",
     "output_type": "stream",
     "text": [
      "vowel\n"
     ]
    }
   ],
   "source": [
    "#2 Write a program to check a character is vowel or consonant.\n",
    "# Vowel : Given char is a vowel if its wither 'a' or 'e' or 'i' or 'o' or 'u'.\n",
    "char = 'a'\n",
    "if char in 'aeiou':\n",
    "    print(\"vowel\")\n",
    "else:\n",
    "    print(\"consonent\")"
   ]
  },
  {
   "cell_type": "code",
   "execution_count": 39,
   "metadata": {},
   "outputs": [
    {
     "name": "stdout",
     "output_type": "stream",
     "text": [
      "consonent\n"
     ]
    }
   ],
   "source": [
    "char = 'z'\n",
    "if char in 'aeiou':\n",
    "    print(\"vowel\")\n",
    "else:\n",
    "    print(\"consonent\")"
   ]
  },
  {
   "cell_type": "code",
   "execution_count": 52,
   "metadata": {},
   "outputs": [
    {
     "name": "stdout",
     "output_type": "stream",
     "text": [
      "40\n"
     ]
    }
   ],
   "source": [
    "#3 Given two numbers, print their sum. However, if the two numbers are the same, return double their sum.\n",
    "# input : num1 = 10 ,num2 = 10 expected output => (10 + 10)*2 = 40 input : num1 = 5 , num2 = 10 expected output => (5 + 10) = 15\n",
    "num1 = 10\n",
    "num2 = 10\n",
    "print((num1+num2 )* 2)\n"
   ]
  },
  {
   "cell_type": "code",
   "execution_count": 53,
   "metadata": {},
   "outputs": [
    {
     "name": "stdout",
     "output_type": "stream",
     "text": [
      "15\n"
     ]
    }
   ],
   "source": [
    "num1 = 5\n",
    "num2 = 10\n",
    "print(num1+num2)"
   ]
  },
  {
   "cell_type": "code",
   "execution_count": 64,
   "metadata": {},
   "outputs": [
    {
     "name": "stdout",
     "output_type": "stream",
     "text": [
      "100\n"
     ]
    }
   ],
   "source": [
    "# 4 Given a Cost price and Selling price of a product,write program to calculate profit or loss.\n",
    "# Profit : if Selling Price > Cost Price\n",
    "# Loss : if Selling Price < Cost Price\n",
    "# input : cost price = 100 , selling price = 200 expected output => Profit of 100.\n",
    "# input : cost price = 50 , selling price = 20 expected output => Loss of 30\n",
    "cp = 100\n",
    "sp = 200\n",
    "profit = sp-cp\n",
    "print(profit)"
   ]
  },
  {
   "cell_type": "code",
   "execution_count": 65,
   "metadata": {},
   "outputs": [
    {
     "name": "stdout",
     "output_type": "stream",
     "text": [
      "30\n"
     ]
    }
   ],
   "source": [
    "sp = 20\n",
    "cp = 50\n",
    "loss = (cp-sp)\n",
    "print(loss)"
   ]
  }
 ],
 "metadata": {
  "kernelspec": {
   "display_name": "Python 3",
   "language": "python",
   "name": "python3"
  },
  "language_info": {
   "codemirror_mode": {
    "name": "ipython",
    "version": 3
   },
   "file_extension": ".py",
   "mimetype": "text/x-python",
   "name": "python",
   "nbconvert_exporter": "python",
   "pygments_lexer": "ipython3",
   "version": "3.7.5"
  }
 },
 "nbformat": 4,
 "nbformat_minor": 2
}
