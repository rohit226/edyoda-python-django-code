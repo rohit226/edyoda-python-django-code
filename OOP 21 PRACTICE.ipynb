{
 "cells": [
  {
   "cell_type": "code",
   "execution_count": 1,
   "metadata": {},
   "outputs": [
    {
     "name": "stdout",
     "output_type": "stream",
     "text": [
      "<__main__.User object at 0x000001C4974E4048>\n"
     ]
    }
   ],
   "source": [
    "class User:\n",
    "    pass\n",
    "\n",
    "user1 = User()\n",
    "print(user1)"
   ]
  },
  {
   "cell_type": "code",
   "execution_count": 29,
   "metadata": {},
   "outputs": [
    {
     "name": "stdout",
     "output_type": "stream",
     "text": [
      "rohit123 rohit@gmail.com pass@123\n",
      "ABC\n",
      "PQR\n",
      "pass@123\n",
      "pass@123\n",
      "pass@908\n",
      "pass@878\n"
     ]
    }
   ],
   "source": [
    "class User:\n",
    "    def __init__ (self,username,email,password):\n",
    "        self.user_name = username\n",
    "        self.email = email\n",
    "        self.password = password\n",
    "        \n",
    "    def login(self,username,password):\n",
    "        if self.user_name == username and password == password:\n",
    "            return True\n",
    "        else:\n",
    "            return False\n",
    "    \n",
    "    def add_name(self,name):\n",
    "        self.name = name\n",
    "        \n",
    "    def change_password(self,new_password):\n",
    "        self.password = new_password\n",
    "    \n",
    "        \n",
    "\n",
    "user1 = User(\"rohit123\",\"rohit@gmail.com\",\"pass@123\")\n",
    "user2 = User(\"rohit154\",\"roh@gmail.com\",\"pass@123\")\n",
    "print(user1.user_name,user1.email,user1.password)\n",
    "# print(user2.user_name,user2.email,user2.password)\n",
    "# print(user1.__dict__)\n",
    "# print(user2.__dict__)\n",
    "# print(user1.login(\"rohit124\",\"pass@123\"))\n",
    "# print(user2.login(\"rohit154\",\"pass@123\"))\n",
    "user1.add_name(\"ABC\")\n",
    "user2.add_name(\"PQR\")\n",
    "print(user1.name)\n",
    "print(user2.name)\n",
    "print(user1.password)\n",
    "print(user2.password)\n",
    "user1.change_password(\"pass@908\")\n",
    "print(user1.password)\n",
    "user2.change_password(\"pass@878\")\n",
    "print(user2.password)"
   ]
  },
  {
   "cell_type": "code",
   "execution_count": 30,
   "metadata": {},
   "outputs": [
    {
     "name": "stdout",
     "output_type": "stream",
     "text": [
      "{'user_name': 'rohit123', 'email': 'rohit@gmail.com', 'password': 'pass@908', 'name': 'ABC'}\n",
      "{'user_name': 'rohit154', 'email': 'roh@gmail.com', 'password': 'pass@878', 'name': 'PQR'}\n"
     ]
    }
   ],
   "source": [
    "print(user1.__dict__)\n",
    "print(user2.__dict__)\n"
   ]
  },
  {
   "cell_type": "code",
   "execution_count": 44,
   "metadata": {},
   "outputs": [
    {
     "name": "stdout",
     "output_type": "stream",
     "text": [
      "rohit123 rohit@gmail.com ABC \n",
      "rohit154 roh@gmail.com GFG \n",
      "rohit525 ram@gmail.com MNO \n",
      "rohit114 re@gmail.com BPO \n"
     ]
    }
   ],
   "source": [
    "class User:\n",
    "    def __init__ (self,username,email,password):\n",
    "        self.user_name = username\n",
    "        self.email = email\n",
    "        self.password = password\n",
    "        \n",
    "    def login(self,username,password):\n",
    "        if self.user_name == username and password == password:\n",
    "            return True\n",
    "        else:\n",
    "            return False\n",
    "    \n",
    "    def add_name(self,name):\n",
    "        self.name = name\n",
    "        \n",
    "    def change_password(self,new_password):\n",
    "        self.password = new_password\n",
    "    \n",
    "    def __str__(self):\n",
    "        return \"{} {} {}\".format (self.user_name,self.email,self.password)\n",
    "    \n",
    "    def get_details(self):\n",
    "        return \"{} {} {} \".format (self.user_name,self.email,self.name)\n",
    "    \n",
    "    \n",
    "    \n",
    "user1 = User(\"rohit123\",\"rohit@gmail.com\",\"pass@123\")\n",
    "user2 = User(\"rohit154\",\"roh@gmail.com\",\"pass@123\")\n",
    "user3 = User(\"rohit525\",\"ram@gmail.com\",\"pass@323\")\n",
    "user4 = User(\"rohit114\",\"re@gmail.com\",\"pass@565\")\n",
    "\n",
    "user1.add_name(\"ABC\")\n",
    "user2.add_name(\"GFG\")\n",
    "user3.add_name(\"MNO\")\n",
    "user4.add_name(\"BPO\")\n",
    "\n",
    "users = [user1,user2,user3,user4]\n",
    "for user in users:\n",
    "    print(user.get_details())\n",
    "\n"
   ]
  },
  {
   "cell_type": "code",
   "execution_count": 16,
   "metadata": {},
   "outputs": [
    {
     "name": "stdout",
     "output_type": "stream",
     "text": [
      "swara 35.6 fail\n"
     ]
    }
   ],
   "source": [
    "class Student:\n",
    "    def __init__(self,name,roll_no):\n",
    "        self.name = name\n",
    "        self.roll_no = roll_no\n",
    "        \n",
    "    def add_marks(self,marks):\n",
    "        self.marks = marks\n",
    "        \n",
    "    def cal_result(self):\n",
    "        self.per = sum(self.marks.values())/500 * 100\n",
    "        if self.per >= 40:\n",
    "            self.result = \"pass\"\n",
    "        else:\n",
    "            self.result = \"fail\"\n",
    "            \n",
    "        \n",
    "    \n",
    "    \n",
    "    \n",
    "student1 = Student(\"rohit\",1)\n",
    "student2 = Student(\"rahul\",2)\n",
    "student3 = Student(\"swaraj\",3)\n",
    "student4 = Student(\"swara\",4)\n",
    "\n",
    "student1.add_marks({\"eng\":80,\"math\":20,\"his\":78,\"geo\":55,\"sci\":65})\n",
    "student2.add_marks({\"eng\":90,\"math\":40,\"his\":54,\"geo\":65,\"sci\":55})\n",
    "student3.add_marks({\"eng\":60,\"math\":20,\"his\":38,\"geo\":25,\"sci\":15})\n",
    "student4.add_marks({\"eng\":30,\"math\":20,\"his\":28,\"geo\":45,\"sci\":55})\n",
    "\n",
    "students = [student1,student2,student3,student4]\n",
    "for student in students:\n",
    "    student.cal_result()\n",
    "print(student4.name,round(student4.per,2),student4.result)\n",
    "\n",
    "\n",
    "for student in students:\n",
    "    if student == \"fail\":\n",
    "        \n",
    "   \n",
    "\n",
    "# print(student1.marks)\n",
    "# print(student2.marks)\n",
    "# print(student3.marks)\n",
    "# print(student4.marks)\n",
    "\n",
    "# print(student1.__dict__)\n",
    "\n",
    "\n",
    "# print(student1.name,student1.roll_no)\n",
    "# print(student2.name,student2.roll_no)\n",
    "# print(student3.name,student3.roll_no)\n",
    "# print(student4.name,student4.roll_no)\n"
   ]
  },
  {
   "cell_type": "code",
   "execution_count": 10,
   "metadata": {},
   "outputs": [
    {
     "name": "stdout",
     "output_type": "stream",
     "text": [
      "{'name': 'rohit', 'roll_no': 1, 'marks': {'eng': 80, 'math': 20, 'his': 78, 'geo': 55, 'sci': 65}}\n",
      "{'name': 'rahul', 'roll_no': 2, 'marks': {'eng': 90, 'math': 40, 'his': 54, 'geo': 65, 'sci': 55}}\n",
      "{'name': 'swaraj', 'roll_no': 3, 'marks': {'eng': 60, 'math': 20, 'his': 38, 'geo': 25, 'sci': 15}}\n",
      "{'name': 'swara', 'roll_no': 4, 'marks': {'eng': 30, 'math': 20, 'his': 28, 'geo': 45, 'sci': 55}}\n"
     ]
    }
   ],
   "source": [
    "print(student1.__dict__)\n",
    "print(student2.__dict__)\n",
    "print(student3.__dict__)\n",
    "print(student4.__dict__)"
   ]
  }
 ],
 "metadata": {
  "kernelspec": {
   "display_name": "Python 3",
   "language": "python",
   "name": "python3"
  }
 },
 "nbformat": 4,
 "nbformat_minor": 2
}
