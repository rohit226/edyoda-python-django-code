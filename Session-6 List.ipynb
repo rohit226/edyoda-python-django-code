{
 "cells": [
  {
   "cell_type": "code",
   "execution_count": 1,
   "metadata": {},
   "outputs": [
    {
     "name": "stdout",
     "output_type": "stream",
     "text": [
      "10\n",
      "20\n",
      "python\n",
      "[10, 20, 30]\n"
     ]
    }
   ],
   "source": [
    "l = [10,20,\"python\",30,40,[10,20,30]]\n",
    "print(l[0])\n",
    "print(l[1])\n",
    "print(l[2])\n",
    "print(l[-1])"
   ]
  },
  {
   "cell_type": "code",
   "execution_count": 9,
   "metadata": {},
   "outputs": [
    {
     "name": "stdout",
     "output_type": "stream",
     "text": [
      "200\n"
     ]
    }
   ],
   "source": [
    "l = [10,20,30,40,[100,200,300,400]]\n",
    "print(l[-1][1])"
   ]
  },
  {
   "cell_type": "code",
   "execution_count": 13,
   "metadata": {},
   "outputs": [
    {
     "name": "stdout",
     "output_type": "stream",
     "text": [
      "3000\n"
     ]
    }
   ],
   "source": [
    "l = [10,20,30,40,[100,200,300,400,[1000,2000,3000,4000]]]\n",
    "print(l[-1][-1][2])"
   ]
  },
  {
   "cell_type": "code",
   "execution_count": 19,
   "metadata": {},
   "outputs": [
    {
     "name": "stdout",
     "output_type": "stream",
     "text": [
      "[10]\n",
      "[10, 20, 30, 40]\n",
      "[[100, 200, 300, 400, [1000, 2000, 3000, 4000]], 40, 30, 20, 10]\n",
      "[3000, 2000, 1000]\n"
     ]
    }
   ],
   "source": [
    "l = [10,20,30,40,[100,200,300,400,[1000,2000,3000,4000]]]\n",
    "print(l[:1])\n",
    "print(l[0:-1])\n",
    "print(l[: : -1])\n",
    "print(l[-1][-1][2::-1])"
   ]
  },
  {
   "cell_type": "code",
   "execution_count": 25,
   "metadata": {},
   "outputs": [
    {
     "name": "stdout",
     "output_type": "stream",
     "text": [
      "4000\n"
     ]
    }
   ],
   "source": [
    "l = [10,20,30,40,[100,200,300,400,[1000,2000,3000,4000]]]\n",
    "print(l[-1][-1][3])"
   ]
  },
  {
   "cell_type": "code",
   "execution_count": null,
   "metadata": {},
   "outputs": [],
   "source": [
    "Add:-append,extend,insert\n",
    "update\n",
    "delete\n"
   ]
  },
  {
   "cell_type": "code",
   "execution_count": 28,
   "metadata": {},
   "outputs": [
    {
     "name": "stdout",
     "output_type": "stream",
     "text": [
      "['python', 'java', 'php', 'c++']\n"
     ]
    }
   ],
   "source": [
    "l = [\"python\",\"java\",\"php\"]\n",
    "l.append(\"c++\")\n",
    "print(l)"
   ]
  },
  {
   "cell_type": "code",
   "execution_count": 31,
   "metadata": {},
   "outputs": [
    {
     "name": "stdout",
     "output_type": "stream",
     "text": [
      "1841279838344\n",
      "['python', 'java', 'php', 'c++']\n",
      "1841279838344\n"
     ]
    }
   ],
   "source": [
    "l = [\"python\",\"java\",\"php\"]\n",
    "print(id(l))\n",
    "l.append(\"c++\")\n",
    "print(l)\n",
    "print(id(l))"
   ]
  },
  {
   "cell_type": "code",
   "execution_count": 35,
   "metadata": {},
   "outputs": [
    {
     "name": "stdout",
     "output_type": "stream",
     "text": [
      "['python', 'java', 'php', ['c++', 'angular js']]\n"
     ]
    }
   ],
   "source": [
    "l = [\"python\",\"java\",\"php\"]\n",
    "# l.append(\"c++,angular js\")\n",
    "l.append([\"c++\",\"angular js\"])\n",
    "print(l)\n"
   ]
  },
  {
   "cell_type": "code",
   "execution_count": 37,
   "metadata": {},
   "outputs": [
    {
     "name": "stdout",
     "output_type": "stream",
     "text": [
      "['python', 'java', 'c++', 'react', 'php', 'html']\n"
     ]
    }
   ],
   "source": [
    "# extend\n",
    "l = [\"python\",\"java\",\"c++\"]\n",
    "l1 = [\"react\",\"php\",\"html\"]\n",
    "l.extend(l1)\n",
    "print(l)"
   ]
  },
  {
   "cell_type": "code",
   "execution_count": 40,
   "metadata": {},
   "outputs": [
    {
     "name": "stdout",
     "output_type": "stream",
     "text": [
      "['python', 'java', 'c++', 'php', 'web']\n"
     ]
    }
   ],
   "source": [
    "l = [\"python\",\"java\",\"c++\"]\n",
    "l.extend([\"php\",\"web\"])\n",
    "print(l)"
   ]
  },
  {
   "cell_type": "code",
   "execution_count": 43,
   "metadata": {},
   "outputs": [
    {
     "name": "stdout",
     "output_type": "stream",
     "text": [
      "97 122\n",
      "65 90\n"
     ]
    }
   ],
   "source": [
    "print(ord('a'),ord('z'))\n",
    "print(ord('A'),ord('Z'))"
   ]
  },
  {
   "cell_type": "code",
   "execution_count": 58,
   "metadata": {},
   "outputs": [
    {
     "name": "stdout",
     "output_type": "stream",
     "text": [
      "['a', 'b', 'c', 'd', 'e', 'f', 'g', 'h', 'i', 'j', 'k', 'l', 'm', 'n', 'o', 'p', 'q', 'r', 's', 't', 'u', 'v', 'w', 'x', 'y', 'z']\n"
     ]
    }
   ],
   "source": [
    "alpha = []\n",
    "start = \"a\"\n",
    "end = \"z\"\n",
    "for value in range(ord(start),ord(end)+1):\n",
    "#     print (chr(value))\n",
    "     alpha.append(chr(value))\n",
    "print(alpha)"
   ]
  },
  {
   "cell_type": "code",
   "execution_count": 2,
   "metadata": {},
   "outputs": [
    {
     "name": "stdout",
     "output_type": "stream",
     "text": [
      "[1, 2, 3, 4, 5, 6, 7, 8, 9]\n"
     ]
    }
   ],
   "source": [
    "l = [[1,2,3],[4,5,6],[7,8,9]]\n",
    "l2 = []\n",
    "for value in l:\n",
    "    l2.extend(value)\n",
    "print(l2)"
   ]
  },
  {
   "cell_type": "code",
   "execution_count": 4,
   "metadata": {},
   "outputs": [
    {
     "name": "stdout",
     "output_type": "stream",
     "text": [
      "[[1, 2, 3], [4, 5, 6], [7, 8, 9]]\n"
     ]
    }
   ],
   "source": [
    "l = [[1,2,3],[4,5,6],[7,8,9]]\n",
    "l2 = []\n",
    "for value in l:\n",
    "    l2.append(value)\n",
    "print(l2)"
   ]
  },
  {
   "cell_type": "code",
   "execution_count": 14,
   "metadata": {},
   "outputs": [
    {
     "ename": "SyntaxError",
     "evalue": "invalid syntax (<ipython-input-14-e712b357dd8a>, line 4)",
     "output_type": "error",
     "traceback": [
      "\u001b[1;36m  File \u001b[1;32m\"<ipython-input-14-e712b357dd8a>\"\u001b[1;36m, line \u001b[1;32m4\u001b[0m\n\u001b[1;33m    for value in (l1,l2,l3):\u001b[0m\n\u001b[1;37m      ^\u001b[0m\n\u001b[1;31mSyntaxError\u001b[0m\u001b[1;31m:\u001b[0m invalid syntax\n"
     ]
    }
   ],
   "source": [
    "l1 = [[10,20,30],[40,50,60],[70,80,90]]\n",
    "l2 = [[100,200,300],[400,500,600],[700,800,900]]\n",
    "l3 = [[1000,2000,3000],[4000,5000,6000],[7000,8000,9000]\n",
    "    for value in (l1,l2,l3):\n",
    "          l.extend(value)\n",
    "print(l)"
   ]
  },
  {
   "cell_type": "code",
   "execution_count": 16,
   "metadata": {},
   "outputs": [
    {
     "name": "stdout",
     "output_type": "stream",
     "text": [
      "[10, 40, 20, 30, 40]\n"
     ]
    }
   ],
   "source": [
    "# insert\n",
    "l = [10,20,30,40]\n",
    "l.insert(1,40)\n",
    "print(l)"
   ]
  },
  {
   "cell_type": "code",
   "execution_count": 18,
   "metadata": {},
   "outputs": [
    {
     "name": "stdout",
     "output_type": "stream",
     "text": [
      "[1000, 2000, 5000, 4000]\n"
     ]
    }
   ],
   "source": [
    "# update\n",
    "l = [1000,2000,3000,4000]\n",
    "l[2] = 5000\n",
    "print(l)"
   ]
  },
  {
   "cell_type": "code",
   "execution_count": null,
   "metadata": {},
   "outputs": [],
   "source": [
    "# delete\n",
    "pop :- index,by default remove the last element,return the element which got remove\n",
    "remove :-value, it will not return anything\n",
    "clear:- remove all the elements list will be empty\n",
    "del\n"
   ]
  },
  {
   "cell_type": "code",
   "execution_count": 20,
   "metadata": {},
   "outputs": [
    {
     "name": "stdout",
     "output_type": "stream",
     "text": [
      "[10, 20, 30, 40]\n"
     ]
    }
   ],
   "source": [
    "l = [10,20,30,40,50]\n",
    "r = l.pop()\n",
    "print(l)"
   ]
  },
  {
   "cell_type": "code",
   "execution_count": 23,
   "metadata": {},
   "outputs": [
    {
     "name": "stdout",
     "output_type": "stream",
     "text": [
      "[10, 20, 30, 50] 40\n"
     ]
    }
   ],
   "source": [
    "l = [10,20,30,40,50]\n",
    "r = l.pop(3)\n",
    "print(l,r)"
   ]
  },
  {
   "cell_type": "code",
   "execution_count": 30,
   "metadata": {},
   "outputs": [
    {
     "name": "stdout",
     "output_type": "stream",
     "text": [
      "[10, 30, 40]\n"
     ]
    }
   ],
   "source": [
    "# remove\n",
    "l = [10,20,30,40]\n",
    "l.remove(20)\n",
    "print(l)"
   ]
  },
  {
   "cell_type": "code",
   "execution_count": 33,
   "metadata": {},
   "outputs": [
    {
     "name": "stdout",
     "output_type": "stream",
     "text": [
      "[]\n"
     ]
    }
   ],
   "source": [
    "# clear\n",
    "l = [10,20,30,40,50]\n",
    "l.clear()\n",
    "print(l)"
   ]
  },
  {
   "cell_type": "code",
   "execution_count": 36,
   "metadata": {},
   "outputs": [
    {
     "ename": "SyntaxError",
     "evalue": "invalid syntax (<ipython-input-36-888045e077a2>, line 2)",
     "output_type": "error",
     "traceback": [
      "\u001b[1;36m  File \u001b[1;32m\"<ipython-input-36-888045e077a2>\"\u001b[1;36m, line \u001b[1;32m2\u001b[0m\n\u001b[1;33m    l.del()\u001b[0m\n\u001b[1;37m        ^\u001b[0m\n\u001b[1;31mSyntaxError\u001b[0m\u001b[1;31m:\u001b[0m invalid syntax\n"
     ]
    }
   ],
   "source": [
    "l = [10,20,30,40,50]\n",
    "l.del()\n",
    "print(l)"
   ]
  },
  {
   "cell_type": "code",
   "execution_count": 38,
   "metadata": {},
   "outputs": [
    {
     "name": "stdout",
     "output_type": "stream",
     "text": [
      "['__add__', '__class__', '__contains__', '__delattr__', '__delitem__', '__dir__', '__doc__', '__eq__', '__format__', '__ge__', '__getattribute__', '__getitem__', '__gt__', '__hash__', '__iadd__', '__imul__', '__init__', '__init_subclass__', '__iter__', '__le__', '__len__', '__lt__', '__mul__', '__ne__', '__new__', '__reduce__', '__reduce_ex__', '__repr__', '__reversed__', '__rmul__', '__setattr__', '__setitem__', '__sizeof__', '__str__', '__subclasshook__', 'append', 'clear', 'copy', 'count', 'extend', 'index', 'insert', 'pop', 'remove', 'reverse', 'sort']\n"
     ]
    }
   ],
   "source": [
    "print(dir(list))"
   ]
  },
  {
   "cell_type": "code",
   "execution_count": 43,
   "metadata": {},
   "outputs": [
    {
     "name": "stdout",
     "output_type": "stream",
     "text": [
      "[10, 15, 40, 50, 60, 70]\n"
     ]
    }
   ],
   "source": [
    "# sort\n",
    "l = [10,50,40,60,70,15]\n",
    "l.sort()\n",
    "print(l)"
   ]
  },
  {
   "cell_type": "code",
   "execution_count": 45,
   "metadata": {},
   "outputs": [
    {
     "name": "stdout",
     "output_type": "stream",
     "text": [
      "[70, 60, 50, 40, 15, 10]\n"
     ]
    }
   ],
   "source": [
    "l = [10,50,40,60,70,15]\n",
    "l.sort(reverse = True)\n",
    "print(l)"
   ]
  },
  {
   "cell_type": "code",
   "execution_count": 48,
   "metadata": {},
   "outputs": [
    {
     "name": "stdout",
     "output_type": "stream",
     "text": [
      "2\n",
      "3\n"
     ]
    }
   ],
   "source": [
    "# index\n",
    "# count\n",
    "l = [10,20,30,40,50,50,50,60]\n",
    "print(l.index(30))\n",
    "print(l.count(50))"
   ]
  },
  {
   "cell_type": "code",
   "execution_count": 51,
   "metadata": {},
   "outputs": [
    {
     "name": "stdout",
     "output_type": "stream",
     "text": [
      "[10, 20, 30]\n"
     ]
    }
   ],
   "source": [
    "l1 = [10,20,30]\n",
    "l2 = [10,20,30]\n",
    "l1.append(40)\n",
    "print(l2)"
   ]
  },
  {
   "cell_type": "code",
   "execution_count": 53,
   "metadata": {},
   "outputs": [
    {
     "name": "stdout",
     "output_type": "stream",
     "text": [
      "2267674112584 2267674102408\n"
     ]
    }
   ],
   "source": [
    "l1 = [10,20,30]\n",
    "l2 = [10,20,30]\n",
    "print(id(l1),id(l2))"
   ]
  },
  {
   "cell_type": "code",
   "execution_count": 56,
   "metadata": {},
   "outputs": [
    {
     "name": "stdout",
     "output_type": "stream",
     "text": [
      "2267675691080 2267675691080\n",
      "[10, 20, 30, 40]\n"
     ]
    }
   ],
   "source": [
    "# shallow copy\n",
    "l1 = [10,20,30]\n",
    "l2 = l1\n",
    "print(id(l1),id(l2))\n",
    "l1.append(40)\n",
    "print(l2)"
   ]
  },
  {
   "cell_type": "code",
   "execution_count": 58,
   "metadata": {},
   "outputs": [
    {
     "name": "stdout",
     "output_type": "stream",
     "text": [
      "2267675691144 2267675692744\n"
     ]
    }
   ],
   "source": [
    "# deep copy\n",
    "l1 = [10,20,30]\n",
    "l2 = l1.copy()\n",
    "print(id(l1),id(l2))"
   ]
  },
  {
   "cell_type": "code",
   "execution_count": 59,
   "metadata": {},
   "outputs": [
    {
     "name": "stdout",
     "output_type": "stream",
     "text": [
      "2267675698312 2267675701000\n"
     ]
    }
   ],
   "source": [
    "l1 = [10,20,30]\n",
    "l2 = list(l1)\n",
    "print(id(l1),id(l2))"
   ]
  }
 ],
 "metadata": {
  "kernelspec": {
   "display_name": "Python 3",
   "language": "python",
   "name": "python3"
  },
  "language_info": {
   "codemirror_mode": {
    "name": "ipython",
    "version": 3
   },
   "file_extension": ".py",
   "mimetype": "text/x-python",
   "name": "python",
   "nbconvert_exporter": "python",
   "pygments_lexer": "ipython3",
   "version": "3.7.5"
  }
 },
 "nbformat": 4,
 "nbformat_minor": 2
}
