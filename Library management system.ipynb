{
 "cells": [
  {
   "cell_type": "code",
   "execution_count": 3,
   "metadata": {},
   "outputs": [
    {
     "ename": "ModuleNotFoundError",
     "evalue": "No module named 'BookItem'",
     "output_type": "error",
     "traceback": [
      "\u001b[1;31m---------------------------------------------------------------------------\u001b[0m",
      "\u001b[1;31mModuleNotFoundError\u001b[0m                       Traceback (most recent call last)",
      "\u001b[1;32m<ipython-input-3-2b8bfafb86ba>\u001b[0m in \u001b[0;36m<module>\u001b[1;34m\u001b[0m\n\u001b[0;32m      1\u001b[0m \u001b[1;31m# -*- coding: utf-8 -*-\u001b[0m\u001b[1;33m\u001b[0m\u001b[1;33m\u001b[0m\u001b[1;33m\u001b[0m\u001b[0m\n\u001b[1;32m----> 2\u001b[1;33m \u001b[1;32mfrom\u001b[0m \u001b[0mBookItem\u001b[0m \u001b[1;32mimport\u001b[0m \u001b[0mBookItem\u001b[0m\u001b[1;33m\u001b[0m\u001b[1;33m\u001b[0m\u001b[0m\n\u001b[0m\u001b[0;32m      3\u001b[0m \u001b[1;33m\u001b[0m\u001b[0m\n\u001b[0;32m      4\u001b[0m \u001b[1;32mclass\u001b[0m \u001b[0mBook\u001b[0m\u001b[1;33m:\u001b[0m\u001b[1;33m\u001b[0m\u001b[1;33m\u001b[0m\u001b[0m\n\u001b[0;32m      5\u001b[0m     \u001b[1;32mdef\u001b[0m \u001b[0m__init__\u001b[0m\u001b[1;33m(\u001b[0m\u001b[0mself\u001b[0m\u001b[1;33m,\u001b[0m\u001b[0mname\u001b[0m\u001b[1;33m,\u001b[0m\u001b[0mauthor\u001b[0m\u001b[1;33m,\u001b[0m\u001b[0mpublish_date\u001b[0m\u001b[1;33m,\u001b[0m\u001b[0mpages\u001b[0m\u001b[1;33m)\u001b[0m\u001b[1;33m:\u001b[0m\u001b[1;33m\u001b[0m\u001b[1;33m\u001b[0m\u001b[0m\n",
      "\u001b[1;31mModuleNotFoundError\u001b[0m: No module named 'BookItem'"
     ]
    }
   ],
   "source": [
    "# -*- coding: utf-8 -*-\n",
    "from BookItem import BookItem\n",
    "\n",
    "class Book:\n",
    "    def __init__(self,name,author,publish_date,pages):\n",
    "        self.name = name\n",
    "        self.author = author\n",
    "        self.publish_date = publish_date\n",
    "        self.pages = pages\n",
    "        self.total_count = 0\n",
    "        self.book_item = []\n",
    "        \n",
    "    # adding a book item    \n",
    "    def addBookItem(self,isbn,rack):\n",
    "        b = BookItem(self,isbn,rack)\n",
    "        self.book_item.append(b)\n",
    "        self.total_count +=1\n",
    "    \n",
    "    # Displaying all Books\n",
    "    def printBook(self):\n",
    "        print (f'Book Name: {self.name}\\nAuthor Name: {self.author}\\nAvailable at:')\n",
    "        for book_item in self.book_item:\n",
    "            print (f'Rack: {book_item.rack}\\tIsbn: {book_item.isbn}')\n",
    "            \n",
    "        # Search Books by name\n",
    "    def searchBookItem(self,isbn):\n",
    "        for book_item in self.book_item:\n",
    "            if isbn.strip() == book_item.isbn:\n",
    "                return book_item\n",
    "\n",
    "    #it will return book's book_item like isbn and rack so that we can remove book and remove it from our inventory and revert the saem action when i member returns it \n",
    "    def searchBookItemIsbn(self,book):\n",
    "        for book_item in self.book_item:\n",
    "            if book == book_item.book:\n",
    "                issuedBookItem = [book_item.isbn, book_item.rack]\n",
    "                return issuedBookItem\n",
    "            \n",
    "    # Renove a specing Book Item\n",
    "    def removeBookItem(self,book_item):\n",
    "        if book_item in self.book_item:\n",
    "            self.book_item.remove(book_item)\n",
    "            self.total_count -=1\n",
    "            \n",
    "    def __repr__(self):\n",
    "        return self.name + ' ' + self.author + ' ' + str(self.publish_date) + ' ' + str(self.pages)"
   ]
  },
  {
   "cell_type": "code",
   "execution_count": null,
   "metadata": {},
   "outputs": [],
   "source": []
  }
 ],
 "metadata": {
  "kernelspec": {
   "display_name": "Python 3",
   "language": "python",
   "name": "python3"
  },
  "language_info": {
   "codemirror_mode": {
    "name": "ipython",
    "version": 3
   },
   "file_extension": ".py",
   "mimetype": "text/x-python",
   "name": "python",
   "nbconvert_exporter": "python",
   "pygments_lexer": "ipython3",
   "version": "3.7.5"
  }
 },
 "nbformat": 4,
 "nbformat_minor": 2
}
