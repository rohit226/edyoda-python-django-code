{
 "cells": [
  {
   "cell_type": "code",
   "execution_count": null,
   "metadata": {},
   "outputs": [],
   "source": [
    "True/False\n",
    "comparison: ==,!=,<,>\n",
    "identity: is is not\n",
    "membership: in not in\n",
    "logical: and or not\n",
    "    \n",
    "==  =>values\n",
    "is => memory location\n",
    "\n",
    "False values: none,\" \",[],{},(),0 its a false values\n",
    "    \n",
    "enumerate\n",
    "for index,values in enumerate(iterable)\n",
    "\n",
    "keys,values => items()\n",
    "\n",
    "for\n",
    "else:\n",
    "    \n",
    "[start:end:stride]2 => every second character\n",
    "-1: right to left\n",
    "1: left to right\n",
    "    \n",
    "List:\n",
    "    add:\n",
    "        append\n",
    "        extend\n",
    "        insert\n",
    "        \n",
    "    update:\n",
    "        l[index] = new_value\n",
    "        \n",
    "    delete:\n",
    "        pop => index\n",
    "        remove => values\n",
    "        clr => empty\n",
    "        del\n",
    "        \n",
    "dict\n",
    "   add:\n",
    "    d[key] = value\n",
    "    setdefault(key,default_value)\n",
    "        \n",
    "    update:\n",
    "        d[key] = new_value\n",
    "        \n",
    "    del:\n",
    "        pop\n",
    "        popitem\n",
    "        clr\n",
    "        del\n",
    "        \n",
    "        "
   ]
  },
  {
   "cell_type": "code",
   "execution_count": 18,
   "metadata": {},
   "outputs": [
    {
     "name": "stdout",
     "output_type": "stream",
     "text": [
      "[8]\n"
     ]
    }
   ],
   "source": [
    "# any missing no used this method\n",
    "input_num = [1,2,3,4,5,6,7,9,10]\n",
    "all_num = list(range(1,11))\n",
    "missing_num = []\n",
    "\n",
    "for value in all_num:\n",
    "    if value not in input_num:\n",
    "        missing_num.append(value)\n",
    "print(missing_num)\n",
    "\n"
   ]
  },
  {
   "cell_type": "code",
   "execution_count": 38,
   "metadata": {},
   "outputs": [
    {
     "name": "stdout",
     "output_type": "stream",
     "text": [
      "8.0\n"
     ]
    }
   ],
   "source": [
    "# only one missing no used this method\n",
    "\n",
    "input_nums = (1,2,3,4,5,6,7,9,10)\n",
    "n = 10\n",
    "expected_sum = n *(n + 1)/ 2\n",
    "actual_sum = sum(input_nums)\n",
    "missing_element = expected_sum - actual_sum\n",
    "print(missing_element)"
   ]
  },
  {
   "cell_type": "code",
   "execution_count": 61,
   "metadata": {},
   "outputs": [
    {
     "name": "stdout",
     "output_type": "stream",
     "text": [
      "2\n"
     ]
    }
   ],
   "source": [
    "# 2.Find an element in array such that sum of left array is equal to sum of right array.\n",
    "\n",
    "l = [1,2,3,1,1,1]\n",
    "\n",
    "for index,value in enumerate(l[1:]):\n",
    "    if sum(l[ :index]) == sum(l[index + 1: ]):\n",
    "        print(index)\n",
    "        break\n",
    "    "
   ]
  },
  {
   "cell_type": "code",
   "execution_count": 75,
   "metadata": {},
   "outputs": [
    {
     "name": "stdout",
     "output_type": "stream",
     "text": [
      "eqi element is present at index 4 and value is 5\n"
     ]
    }
   ],
   "source": [
    "l = [1,2,1,1,5,1,4]\n",
    "for index,value in enumerate(l[1:]):\n",
    "    if sum(l[ :index]) == sum(l[index + 1: ]):\n",
    "        print(\"eqi element is present at index {} and value is {}\".format(index,l[index]))\n",
    "        break\n",
    "        "
   ]
  }
 ],
 "metadata": {
  "kernelspec": {
   "display_name": "Python 3",
   "language": "python",
   "name": "python3"
  },
  "language_info": {
   "codemirror_mode": {
    "name": "ipython",
    "version": 3
   },
   "file_extension": ".py",
   "mimetype": "text/x-python",
   "name": "python",
   "nbconvert_exporter": "python",
   "pygments_lexer": "ipython3",
   "version": "3.7.5"
  }
 },
 "nbformat": 4,
 "nbformat_minor": 2
}
